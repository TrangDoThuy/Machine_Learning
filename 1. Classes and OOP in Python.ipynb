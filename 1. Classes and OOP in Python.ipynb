{
 "cells": [
  {
   "cell_type": "code",
   "execution_count": 1,
   "metadata": {},
   "outputs": [
    {
     "name": "stdout",
     "output_type": "stream",
     "text": [
      "my_child.member_var is defined\n"
     ]
    }
   ],
   "source": [
    "# define a parent class\n",
    "class my_parent(object):\n",
    "     def __init__(self, my_var): # constructor\n",
    "         self.member_var = my_var\n",
    "         print(f'{self.__class__.__name__}.member_var is defined')\n",
    "\n",
    "# define the child class\n",
    "class my_child(my_parent):           \n",
    "     def child_function(self):\n",
    "         print(f'printing from child function the member variable with value {self.member_var}')\n",
    "        \n",
    "# now instantiate a child\n",
    "child_obj = my_child(1)"
   ]
  },
  {
   "cell_type": "code",
   "execution_count": 2,
   "metadata": {},
   "outputs": [
    {
     "name": "stdout",
     "output_type": "stream",
     "text": [
      "printing from child function the member variable with value 1\n"
     ]
    }
   ],
   "source": [
    "child_obj.child_function()"
   ]
  }
 ],
 "metadata": {
  "kernelspec": {
   "display_name": "Python 3",
   "language": "python",
   "name": "python3"
  },
  "language_info": {
   "codemirror_mode": {
    "name": "ipython",
    "version": 3
   },
   "file_extension": ".py",
   "mimetype": "text/x-python",
   "name": "python",
   "nbconvert_exporter": "python",
   "pygments_lexer": "ipython3",
   "version": "3.7.6"
  }
 },
 "nbformat": 4,
 "nbformat_minor": 4
}
